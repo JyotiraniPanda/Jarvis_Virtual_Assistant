{
 "cells": [
  {
   "cell_type": "code",
   "execution_count": 1,
   "id": "c9dd74a7",
   "metadata": {},
   "outputs": [
    {
     "name": "stdout",
     "output_type": "stream",
     "text": [
      "Requirement already satisfied: pyaudio in c:\\users\\jyoti\\anaconda3\\lib\\site-packages (0.2.13)\n",
      "Note: you may need to restart the kernel to use updated packages.\n"
     ]
    }
   ],
   "source": [
    "pip install pyaudio"
   ]
  },
  {
   "cell_type": "code",
   "execution_count": null,
   "id": "9393ab34",
   "metadata": {},
   "outputs": [],
   "source": [
    "pip install pyttsx3   \n",
    "# text-to-speech conversion library"
   ]
  },
  {
   "cell_type": "code",
   "execution_count": 3,
   "id": "2edbee6b",
   "metadata": {},
   "outputs": [
    {
     "name": "stdout",
     "output_type": "stream",
     "text": [
      "Requirement already satisfied: speechRecognition in c:\\users\\jyoti\\anaconda3\\lib\\site-packages (3.9.0)\n",
      "Requirement already satisfied: requests>=2.26.0 in c:\\users\\jyoti\\anaconda3\\lib\\site-packages (from speechRecognition) (2.27.1)\n",
      "Requirement already satisfied: charset-normalizer~=2.0.0 in c:\\users\\jyoti\\anaconda3\\lib\\site-packages (from requests>=2.26.0->speechRecognition) (2.0.4)\n",
      "Requirement already satisfied: idna<4,>=2.5 in c:\\users\\jyoti\\anaconda3\\lib\\site-packages (from requests>=2.26.0->speechRecognition) (3.3)\n",
      "Requirement already satisfied: urllib3<1.27,>=1.21.1 in c:\\users\\jyoti\\anaconda3\\lib\\site-packages (from requests>=2.26.0->speechRecognition) (1.26.9)\n",
      "Requirement already satisfied: certifi>=2017.4.17 in c:\\users\\jyoti\\anaconda3\\lib\\site-packages (from requests>=2.26.0->speechRecognition) (2021.10.8)\n",
      "Note: you may need to restart the kernel to use updated packages.\n"
     ]
    }
   ],
   "source": [
    "pip install speechRecognition"
   ]
  },
  {
   "cell_type": "code",
   "execution_count": 4,
   "id": "99ba49b6",
   "metadata": {},
   "outputs": [
    {
     "name": "stdout",
     "output_type": "stream",
     "text": [
      "Requirement already satisfied: wikipedia in c:\\users\\jyoti\\anaconda3\\lib\\site-packages (1.4.0)\n",
      "Requirement already satisfied: requests<3.0.0,>=2.0.0 in c:\\users\\jyoti\\anaconda3\\lib\\site-packages (from wikipedia) (2.27.1)\n",
      "Requirement already satisfied: beautifulsoup4 in c:\\users\\jyoti\\anaconda3\\lib\\site-packages (from wikipedia) (4.11.1)\n",
      "Requirement already satisfied: urllib3<1.27,>=1.21.1 in c:\\users\\jyoti\\anaconda3\\lib\\site-packages (from requests<3.0.0,>=2.0.0->wikipedia) (1.26.9)\n",
      "Requirement already satisfied: idna<4,>=2.5 in c:\\users\\jyoti\\anaconda3\\lib\\site-packages (from requests<3.0.0,>=2.0.0->wikipedia) (3.3)\n",
      "Requirement already satisfied: charset-normalizer~=2.0.0 in c:\\users\\jyoti\\anaconda3\\lib\\site-packages (from requests<3.0.0,>=2.0.0->wikipedia) (2.0.4)\n",
      "Requirement already satisfied: certifi>=2017.4.17 in c:\\users\\jyoti\\anaconda3\\lib\\site-packages (from requests<3.0.0,>=2.0.0->wikipedia) (2021.10.8)\n",
      "Requirement already satisfied: soupsieve>1.2 in c:\\users\\jyoti\\anaconda3\\lib\\site-packages (from beautifulsoup4->wikipedia) (2.3.1)\n",
      "Note: you may need to restart the kernel to use updated packages.\n"
     ]
    }
   ],
   "source": [
    "pip install wikipedia"
   ]
  },
  {
   "cell_type": "code",
   "execution_count": 5,
   "id": "075c135c",
   "metadata": {},
   "outputs": [],
   "source": [
    "# pip install pyaudio\n",
    "\n",
    "import pyttsx3     #pip install pyttsx3\n",
    "import speech_recognition as sr     #pip install speechRecognition\n",
    "import datetime\n",
    "import wikipedia      #pip install wikipedia\n",
    "import webbrowser\n",
    "import os\n",
    "import smtplib"
   ]
  },
  {
   "cell_type": "code",
   "execution_count": 6,
   "id": "7049a7fe",
   "metadata": {},
   "outputs": [],
   "source": [
    "engine = pyttsx3.init('sapi5')     # object creation  #sapi5 is TTS engine for windows\n",
    "# init function to get an engine instance for the speech synthesis\n",
    "voices = engine.getProperty('voices')     # getting details of current voice\n",
    "# print(voices[1].id)\n",
    "engine.setProperty('voice', voices[0].id)     #changing index, changes voices. o for male"
   ]
  },
  {
   "cell_type": "code",
   "execution_count": 7,
   "id": "16db9d2f",
   "metadata": {},
   "outputs": [],
   "source": [
    "def speak(audio):\n",
    "    engine.say(audio)     # say method on the engine that passing input text to be spoken\n",
    "    engine.runAndWait()   # run and wait method, it processes the voice commands."
   ]
  },
  {
   "cell_type": "code",
   "execution_count": 8,
   "id": "ba90da2e",
   "metadata": {},
   "outputs": [],
   "source": [
    "def wishMe():             # wishMe function\n",
    "    hour = int(datetime.datetime.now().hour)    # datetime module to use datetime function from it\n",
    "    if hour>=0 and hour<12:        # if time is more than 12am and less than 12pm\n",
    "        speak(\"Good Morning!\")       \n",
    "    elif hour>=12 and hour<18:      # or else if the time is in between 12 pm to 6pm \n",
    "        speak(\"Good Afternoon!\")\n",
    "    else:                            # or else \n",
    "        speak(\"Good Evening!\")\n",
    "    speak(\"I am Jarvis Sir. Please tell me how may I help you\")"
   ]
  },
  {
   "cell_type": "code",
   "execution_count": 9,
   "id": "48e0fd54",
   "metadata": {},
   "outputs": [],
   "source": [
    "def takeCommand():              # takeCommand function\n",
    "    #It takes microphone input from the user and returns string output\n",
    "\n",
    "    r = sr.Recognizer()\n",
    "    with sr.Microphone() as source:\n",
    "        print(\"Listening...\")\n",
    "        r.pause_threshold = 1\n",
    "        audio = r.listen(source)\n",
    "\n",
    "    try:\n",
    "        print(\"Recognizing...\")    \n",
    "        query = r.recognize_google(audio, language='en-in')\n",
    "        print(f\"User said: {query}\\n\")\n",
    "\n",
    "    except Exception as e:\n",
    "        # print(e)    \n",
    "        print(\"Say that again please...\")  \n",
    "        return \"None\"\n",
    "    return query"
   ]
  },
  {
   "cell_type": "code",
   "execution_count": 10,
   "id": "c87fae36",
   "metadata": {},
   "outputs": [],
   "source": [
    "def sendEmail(to, content):\n",
    "    server = smtplib.SMTP('smtp.gmail.com', 587)\n",
    "    server.ehlo()\n",
    "    server.starttls()\n",
    "    server.login('youremail@gmail.com', 'your-password')\n",
    "    server.sendmail('youremail@gmail.com', to, content)\n",
    "    server.close()"
   ]
  },
  {
   "cell_type": "code",
   "execution_count": null,
   "id": "80175c87",
   "metadata": {},
   "outputs": [
    {
     "name": "stdout",
     "output_type": "stream",
     "text": [
      "Listening...\n"
     ]
    }
   ],
   "source": [
    "if __name__ == \"__main__\":\n",
    "    wishMe()\n",
    "    while True:\n",
    "    # if 1:\n",
    "        query = takeCommand().lower()\n",
    "        # Logic for executing tasks based on query\n",
    "        if 'wikipedia' in query:\n",
    "            speak('Searching Wikipedia...')\n",
    "            query = query.replace(\"wikipedia\", \"\")\n",
    "            results = wikipedia.summary(query, sentences=2)\n",
    "            speak(\"According to Wikipedia\")\n",
    "            print(results)\n",
    "            speak(results)\n",
    "\n",
    "        elif 'open youtube' in query:\n",
    "            webbrowser.open(\"youtube.com\")\n",
    "\n",
    "        elif 'open google' in query:\n",
    "            webbrowser.open(\"google.com\")\n",
    "\n",
    "        elif 'open stackoverflow' in query:\n",
    "            webbrowser.open(\"stackoverflow.com\")   \n",
    "\n",
    "\n",
    "        elif 'play music' in query:\n",
    "            music_dir = 'D:\\\\Non Critical\\\\songs\\\\Favorite Songs2'\n",
    "            songs = os.listdir(music_dir)\n",
    "            print(songs)    \n",
    "            os.startfile(os.path.join(music_dir, songs[0]))\n",
    "\n",
    "        elif 'the time' in query:\n",
    "            strTime = datetime.datetime.now().strftime(\"%H:%M:%S\")    \n",
    "            speak(f\"Sir, the time is {strTime}\")\n",
    "\n",
    "        elif 'open code' in query:\n",
    "            codePath = \"C:\\\\Users\\\\Haris\\\\AppData\\\\Local\\\\Programs\\\\Microsoft VS Code\\\\Code.exe\"\n",
    "            os.startfile(codePath)\n",
    "\n",
    "        elif 'email to Jyoti' in query:\n",
    "            try:\n",
    "                speak(\"What should I say?\")\n",
    "                content = takeCommand()\n",
    "                to = \"jyotiranipanda123@gmail.com\"    \n",
    "                sendEmail(to, content)\n",
    "                speak(\"Email has been sent!\")\n",
    "            except Exception as e:\n",
    "                print(e)\n",
    "                speak(\"Sorry my friend Jyoti. I am not able to send this email\")    \n",
    "        else:\n",
    "            print(\"No query matched\")"
   ]
  },
  {
   "cell_type": "code",
   "execution_count": null,
   "id": "78c36c7a",
   "metadata": {},
   "outputs": [],
   "source": []
  }
 ],
 "metadata": {
  "kernelspec": {
   "display_name": "Python 3 (ipykernel)",
   "language": "python",
   "name": "python3"
  },
  "language_info": {
   "codemirror_mode": {
    "name": "ipython",
    "version": 3
   },
   "file_extension": ".py",
   "mimetype": "text/x-python",
   "name": "python",
   "nbconvert_exporter": "python",
   "pygments_lexer": "ipython3",
   "version": "3.9.12"
  }
 },
 "nbformat": 4,
 "nbformat_minor": 5
}
